{
 "cells": [
  {
   "cell_type": "code",
   "execution_count": 1,
   "id": "aba9f528",
   "metadata": {
    "_cell_guid": "b1076dfc-b9ad-4769-8c92-a6c4dae69d19",
    "_uuid": "8f2839f25d086af736a60e9eeb907d3b93b6e0e5",
    "execution": {
     "iopub.execute_input": "2022-06-24T15:51:41.173010Z",
     "iopub.status.busy": "2022-06-24T15:51:41.172506Z",
     "iopub.status.idle": "2022-06-24T15:51:41.195792Z",
     "shell.execute_reply": "2022-06-24T15:51:41.194724Z"
    },
    "papermill": {
     "duration": 0.047564,
     "end_time": "2022-06-24T15:51:41.198570",
     "exception": false,
     "start_time": "2022-06-24T15:51:41.151006",
     "status": "completed"
    },
    "tags": []
   },
   "outputs": [
    {
     "name": "stdout",
     "output_type": "stream",
     "text": [
      "/kaggle/input/titanic/train.csv\n",
      "/kaggle/input/titanic/test.csv\n",
      "/kaggle/input/titanic/gender_submission.csv\n"
     ]
    }
   ],
   "source": [
    "# This Python 3 environment comes with many helpful analytics libraries installed\n",
    "# It is defined by the kaggle/python Docker image: https://github.com/kaggle/docker-python\n",
    "# For example, here's several helpful packages to load\n",
    "\n",
    "import numpy as np # linear algebra\n",
    "import pandas as pd # data processing, CSV file I/O (e.g. pd.read_csv)\n",
    "\n",
    "# Input data files are available in the read-only \"../input/\" directory\n",
    "# For example, running this (by clicking run or pressing Shift+Enter) will list all files under the input directory\n",
    "\n",
    "import os\n",
    "for dirname, _, filenames in os.walk('/kaggle/input'):\n",
    "    for filename in filenames:\n",
    "        print(os.path.join(dirname, filename))\n",
    "\n",
    "# You can write up to 20GB to the current directory (/kaggle/working/) that gets preserved as output when you create a version using \"Save & Run All\" \n",
    "# You can also write temporary files to /kaggle/temp/, but they won't be saved outside of the current session"
   ]
  },
  {
   "cell_type": "code",
   "execution_count": 2,
   "id": "a203123d",
   "metadata": {
    "execution": {
     "iopub.execute_input": "2022-06-24T15:51:41.235930Z",
     "iopub.status.busy": "2022-06-24T15:51:41.235384Z",
     "iopub.status.idle": "2022-06-24T15:51:42.446978Z",
     "shell.execute_reply": "2022-06-24T15:51:42.445636Z"
    },
    "papermill": {
     "duration": 1.233491,
     "end_time": "2022-06-24T15:51:42.449879",
     "exception": false,
     "start_time": "2022-06-24T15:51:41.216388",
     "status": "completed"
    },
    "tags": []
   },
   "outputs": [],
   "source": [
    "import pandas as pd\n",
    "import numpy as np\n",
    "import seaborn as sns\n",
    "import matplotlib.pyplot as plt "
   ]
  },
  {
   "cell_type": "markdown",
   "id": "5364d227",
   "metadata": {
    "papermill": {
     "duration": 0.019482,
     "end_time": "2022-06-24T15:51:42.488154",
     "exception": false,
     "start_time": "2022-06-24T15:51:42.468672",
     "status": "completed"
    },
    "tags": []
   },
   "source": [
    "# **load the data**"
   ]
  },
  {
   "cell_type": "code",
   "execution_count": 3,
   "id": "a10e5e64",
   "metadata": {
    "execution": {
     "iopub.execute_input": "2022-06-24T15:51:42.526023Z",
     "iopub.status.busy": "2022-06-24T15:51:42.525442Z",
     "iopub.status.idle": "2022-06-24T15:51:42.547726Z",
     "shell.execute_reply": "2022-06-24T15:51:42.546764Z"
    },
    "papermill": {
     "duration": 0.043912,
     "end_time": "2022-06-24T15:51:42.550068",
     "exception": false,
     "start_time": "2022-06-24T15:51:42.506156",
     "status": "completed"
    },
    "tags": []
   },
   "outputs": [],
   "source": [
    "df=pd.read_csv('../input/titanic/train.csv')"
   ]
  },
  {
   "cell_type": "code",
   "execution_count": 4,
   "id": "04ab4294",
   "metadata": {
    "execution": {
     "iopub.execute_input": "2022-06-24T15:51:42.587536Z",
     "iopub.status.busy": "2022-06-24T15:51:42.586950Z",
     "iopub.status.idle": "2022-06-24T15:51:42.596072Z",
     "shell.execute_reply": "2022-06-24T15:51:42.595127Z"
    },
    "papermill": {
     "duration": 0.030227,
     "end_time": "2022-06-24T15:51:42.598153",
     "exception": false,
     "start_time": "2022-06-24T15:51:42.567926",
     "status": "completed"
    },
    "tags": []
   },
   "outputs": [
    {
     "data": {
      "text/plain": [
       "891"
      ]
     },
     "execution_count": 4,
     "metadata": {},
     "output_type": "execute_result"
    }
   ],
   "source": [
    "len(df)"
   ]
  },
  {
   "cell_type": "code",
   "execution_count": 5,
   "id": "3c109e75",
   "metadata": {
    "execution": {
     "iopub.execute_input": "2022-06-24T15:51:42.636298Z",
     "iopub.status.busy": "2022-06-24T15:51:42.635733Z",
     "iopub.status.idle": "2022-06-24T15:51:42.660231Z",
     "shell.execute_reply": "2022-06-24T15:51:42.659018Z"
    },
    "papermill": {
     "duration": 0.046223,
     "end_time": "2022-06-24T15:51:42.662602",
     "exception": false,
     "start_time": "2022-06-24T15:51:42.616379",
     "status": "completed"
    },
    "tags": []
   },
   "outputs": [
    {
     "data": {
      "text/html": [
       "<div>\n",
       "<style scoped>\n",
       "    .dataframe tbody tr th:only-of-type {\n",
       "        vertical-align: middle;\n",
       "    }\n",
       "\n",
       "    .dataframe tbody tr th {\n",
       "        vertical-align: top;\n",
       "    }\n",
       "\n",
       "    .dataframe thead th {\n",
       "        text-align: right;\n",
       "    }\n",
       "</style>\n",
       "<table border=\"1\" class=\"dataframe\">\n",
       "  <thead>\n",
       "    <tr style=\"text-align: right;\">\n",
       "      <th></th>\n",
       "      <th>PassengerId</th>\n",
       "      <th>Survived</th>\n",
       "      <th>Pclass</th>\n",
       "      <th>Name</th>\n",
       "      <th>Sex</th>\n",
       "      <th>Age</th>\n",
       "      <th>SibSp</th>\n",
       "      <th>Parch</th>\n",
       "      <th>Ticket</th>\n",
       "      <th>Fare</th>\n",
       "      <th>Cabin</th>\n",
       "      <th>Embarked</th>\n",
       "    </tr>\n",
       "  </thead>\n",
       "  <tbody>\n",
       "    <tr>\n",
       "      <th>0</th>\n",
       "      <td>1</td>\n",
       "      <td>0</td>\n",
       "      <td>3</td>\n",
       "      <td>Braund, Mr. Owen Harris</td>\n",
       "      <td>male</td>\n",
       "      <td>22.0</td>\n",
       "      <td>1</td>\n",
       "      <td>0</td>\n",
       "      <td>A/5 21171</td>\n",
       "      <td>7.2500</td>\n",
       "      <td>NaN</td>\n",
       "      <td>S</td>\n",
       "    </tr>\n",
       "    <tr>\n",
       "      <th>1</th>\n",
       "      <td>2</td>\n",
       "      <td>1</td>\n",
       "      <td>1</td>\n",
       "      <td>Cumings, Mrs. John Bradley (Florence Briggs Th...</td>\n",
       "      <td>female</td>\n",
       "      <td>38.0</td>\n",
       "      <td>1</td>\n",
       "      <td>0</td>\n",
       "      <td>PC 17599</td>\n",
       "      <td>71.2833</td>\n",
       "      <td>C85</td>\n",
       "      <td>C</td>\n",
       "    </tr>\n",
       "    <tr>\n",
       "      <th>2</th>\n",
       "      <td>3</td>\n",
       "      <td>1</td>\n",
       "      <td>3</td>\n",
       "      <td>Heikkinen, Miss. Laina</td>\n",
       "      <td>female</td>\n",
       "      <td>26.0</td>\n",
       "      <td>0</td>\n",
       "      <td>0</td>\n",
       "      <td>STON/O2. 3101282</td>\n",
       "      <td>7.9250</td>\n",
       "      <td>NaN</td>\n",
       "      <td>S</td>\n",
       "    </tr>\n",
       "    <tr>\n",
       "      <th>3</th>\n",
       "      <td>4</td>\n",
       "      <td>1</td>\n",
       "      <td>1</td>\n",
       "      <td>Futrelle, Mrs. Jacques Heath (Lily May Peel)</td>\n",
       "      <td>female</td>\n",
       "      <td>35.0</td>\n",
       "      <td>1</td>\n",
       "      <td>0</td>\n",
       "      <td>113803</td>\n",
       "      <td>53.1000</td>\n",
       "      <td>C123</td>\n",
       "      <td>S</td>\n",
       "    </tr>\n",
       "    <tr>\n",
       "      <th>4</th>\n",
       "      <td>5</td>\n",
       "      <td>0</td>\n",
       "      <td>3</td>\n",
       "      <td>Allen, Mr. William Henry</td>\n",
       "      <td>male</td>\n",
       "      <td>35.0</td>\n",
       "      <td>0</td>\n",
       "      <td>0</td>\n",
       "      <td>373450</td>\n",
       "      <td>8.0500</td>\n",
       "      <td>NaN</td>\n",
       "      <td>S</td>\n",
       "    </tr>\n",
       "  </tbody>\n",
       "</table>\n",
       "</div>"
      ],
      "text/plain": [
       "   PassengerId  Survived  Pclass  \\\n",
       "0            1         0       3   \n",
       "1            2         1       1   \n",
       "2            3         1       3   \n",
       "3            4         1       1   \n",
       "4            5         0       3   \n",
       "\n",
       "                                                Name     Sex   Age  SibSp  \\\n",
       "0                            Braund, Mr. Owen Harris    male  22.0      1   \n",
       "1  Cumings, Mrs. John Bradley (Florence Briggs Th...  female  38.0      1   \n",
       "2                             Heikkinen, Miss. Laina  female  26.0      0   \n",
       "3       Futrelle, Mrs. Jacques Heath (Lily May Peel)  female  35.0      1   \n",
       "4                           Allen, Mr. William Henry    male  35.0      0   \n",
       "\n",
       "   Parch            Ticket     Fare Cabin Embarked  \n",
       "0      0         A/5 21171   7.2500   NaN        S  \n",
       "1      0          PC 17599  71.2833   C85        C  \n",
       "2      0  STON/O2. 3101282   7.9250   NaN        S  \n",
       "3      0            113803  53.1000  C123        S  \n",
       "4      0            373450   8.0500   NaN        S  "
      ]
     },
     "execution_count": 5,
     "metadata": {},
     "output_type": "execute_result"
    }
   ],
   "source": [
    "df.head()"
   ]
  },
  {
   "cell_type": "code",
   "execution_count": 6,
   "id": "203755b4",
   "metadata": {
    "execution": {
     "iopub.execute_input": "2022-06-24T15:51:42.701742Z",
     "iopub.status.busy": "2022-06-24T15:51:42.701384Z",
     "iopub.status.idle": "2022-06-24T15:51:42.709041Z",
     "shell.execute_reply": "2022-06-24T15:51:42.708001Z"
    },
    "papermill": {
     "duration": 0.030356,
     "end_time": "2022-06-24T15:51:42.711401",
     "exception": false,
     "start_time": "2022-06-24T15:51:42.681045",
     "status": "completed"
    },
    "tags": []
   },
   "outputs": [
    {
     "data": {
      "text/plain": [
       "RangeIndex(start=0, stop=891, step=1)"
      ]
     },
     "execution_count": 6,
     "metadata": {},
     "output_type": "execute_result"
    }
   ],
   "source": [
    "df.index"
   ]
  },
  {
   "cell_type": "code",
   "execution_count": 7,
   "id": "c7c3f575",
   "metadata": {
    "execution": {
     "iopub.execute_input": "2022-06-24T15:51:42.750716Z",
     "iopub.status.busy": "2022-06-24T15:51:42.750007Z",
     "iopub.status.idle": "2022-06-24T15:51:42.756543Z",
     "shell.execute_reply": "2022-06-24T15:51:42.755492Z"
    },
    "papermill": {
     "duration": 0.028643,
     "end_time": "2022-06-24T15:51:42.758702",
     "exception": false,
     "start_time": "2022-06-24T15:51:42.730059",
     "status": "completed"
    },
    "tags": []
   },
   "outputs": [
    {
     "data": {
      "text/plain": [
       "Index(['PassengerId', 'Survived', 'Pclass', 'Name', 'Sex', 'Age', 'SibSp',\n",
       "       'Parch', 'Ticket', 'Fare', 'Cabin', 'Embarked'],\n",
       "      dtype='object')"
      ]
     },
     "execution_count": 7,
     "metadata": {},
     "output_type": "execute_result"
    }
   ],
   "source": [
    "df.columns"
   ]
  },
  {
   "cell_type": "code",
   "execution_count": 8,
   "id": "7eea06eb",
   "metadata": {
    "execution": {
     "iopub.execute_input": "2022-06-24T15:51:42.797154Z",
     "iopub.status.busy": "2022-06-24T15:51:42.796788Z",
     "iopub.status.idle": "2022-06-24T15:51:42.822004Z",
     "shell.execute_reply": "2022-06-24T15:51:42.821055Z"
    },
    "papermill": {
     "duration": 0.048554,
     "end_time": "2022-06-24T15:51:42.825663",
     "exception": false,
     "start_time": "2022-06-24T15:51:42.777109",
     "status": "completed"
    },
    "tags": []
   },
   "outputs": [
    {
     "name": "stdout",
     "output_type": "stream",
     "text": [
      "<class 'pandas.core.frame.DataFrame'>\n",
      "RangeIndex: 891 entries, 0 to 890\n",
      "Data columns (total 12 columns):\n",
      " #   Column       Non-Null Count  Dtype  \n",
      "---  ------       --------------  -----  \n",
      " 0   PassengerId  891 non-null    int64  \n",
      " 1   Survived     891 non-null    int64  \n",
      " 2   Pclass       891 non-null    int64  \n",
      " 3   Name         891 non-null    object \n",
      " 4   Sex          891 non-null    object \n",
      " 5   Age          714 non-null    float64\n",
      " 6   SibSp        891 non-null    int64  \n",
      " 7   Parch        891 non-null    int64  \n",
      " 8   Ticket       891 non-null    object \n",
      " 9   Fare         891 non-null    float64\n",
      " 10  Cabin        204 non-null    object \n",
      " 11  Embarked     889 non-null    object \n",
      "dtypes: float64(2), int64(5), object(5)\n",
      "memory usage: 83.7+ KB\n"
     ]
    }
   ],
   "source": [
    "df.info()"
   ]
  },
  {
   "cell_type": "code",
   "execution_count": 9,
   "id": "4f0b5f35",
   "metadata": {
    "execution": {
     "iopub.execute_input": "2022-06-24T15:51:42.864763Z",
     "iopub.status.busy": "2022-06-24T15:51:42.864407Z",
     "iopub.status.idle": "2022-06-24T15:51:42.871848Z",
     "shell.execute_reply": "2022-06-24T15:51:42.871109Z"
    },
    "papermill": {
     "duration": 0.029069,
     "end_time": "2022-06-24T15:51:42.873737",
     "exception": false,
     "start_time": "2022-06-24T15:51:42.844668",
     "status": "completed"
    },
    "tags": []
   },
   "outputs": [
    {
     "data": {
      "text/plain": [
       "PassengerId      int64\n",
       "Survived         int64\n",
       "Pclass           int64\n",
       "Name            object\n",
       "Sex             object\n",
       "Age            float64\n",
       "SibSp            int64\n",
       "Parch            int64\n",
       "Ticket          object\n",
       "Fare           float64\n",
       "Cabin           object\n",
       "Embarked        object\n",
       "dtype: object"
      ]
     },
     "execution_count": 9,
     "metadata": {},
     "output_type": "execute_result"
    }
   ],
   "source": [
    "df.dtypes"
   ]
  },
  {
   "cell_type": "code",
   "execution_count": 10,
   "id": "433da419",
   "metadata": {
    "execution": {
     "iopub.execute_input": "2022-06-24T15:51:42.913278Z",
     "iopub.status.busy": "2022-06-24T15:51:42.912902Z",
     "iopub.status.idle": "2022-06-24T15:51:42.949016Z",
     "shell.execute_reply": "2022-06-24T15:51:42.948283Z"
    },
    "papermill": {
     "duration": 0.058976,
     "end_time": "2022-06-24T15:51:42.951529",
     "exception": false,
     "start_time": "2022-06-24T15:51:42.892553",
     "status": "completed"
    },
    "tags": []
   },
   "outputs": [
    {
     "data": {
      "text/html": [
       "<div>\n",
       "<style scoped>\n",
       "    .dataframe tbody tr th:only-of-type {\n",
       "        vertical-align: middle;\n",
       "    }\n",
       "\n",
       "    .dataframe tbody tr th {\n",
       "        vertical-align: top;\n",
       "    }\n",
       "\n",
       "    .dataframe thead th {\n",
       "        text-align: right;\n",
       "    }\n",
       "</style>\n",
       "<table border=\"1\" class=\"dataframe\">\n",
       "  <thead>\n",
       "    <tr style=\"text-align: right;\">\n",
       "      <th></th>\n",
       "      <th>PassengerId</th>\n",
       "      <th>Survived</th>\n",
       "      <th>Pclass</th>\n",
       "      <th>Age</th>\n",
       "      <th>SibSp</th>\n",
       "      <th>Parch</th>\n",
       "      <th>Fare</th>\n",
       "    </tr>\n",
       "  </thead>\n",
       "  <tbody>\n",
       "    <tr>\n",
       "      <th>count</th>\n",
       "      <td>891.000000</td>\n",
       "      <td>891.000000</td>\n",
       "      <td>891.000000</td>\n",
       "      <td>714.000000</td>\n",
       "      <td>891.000000</td>\n",
       "      <td>891.000000</td>\n",
       "      <td>891.000000</td>\n",
       "    </tr>\n",
       "    <tr>\n",
       "      <th>mean</th>\n",
       "      <td>446.000000</td>\n",
       "      <td>0.383838</td>\n",
       "      <td>2.308642</td>\n",
       "      <td>29.699118</td>\n",
       "      <td>0.523008</td>\n",
       "      <td>0.381594</td>\n",
       "      <td>32.204208</td>\n",
       "    </tr>\n",
       "    <tr>\n",
       "      <th>std</th>\n",
       "      <td>257.353842</td>\n",
       "      <td>0.486592</td>\n",
       "      <td>0.836071</td>\n",
       "      <td>14.526497</td>\n",
       "      <td>1.102743</td>\n",
       "      <td>0.806057</td>\n",
       "      <td>49.693429</td>\n",
       "    </tr>\n",
       "    <tr>\n",
       "      <th>min</th>\n",
       "      <td>1.000000</td>\n",
       "      <td>0.000000</td>\n",
       "      <td>1.000000</td>\n",
       "      <td>0.420000</td>\n",
       "      <td>0.000000</td>\n",
       "      <td>0.000000</td>\n",
       "      <td>0.000000</td>\n",
       "    </tr>\n",
       "    <tr>\n",
       "      <th>25%</th>\n",
       "      <td>223.500000</td>\n",
       "      <td>0.000000</td>\n",
       "      <td>2.000000</td>\n",
       "      <td>20.125000</td>\n",
       "      <td>0.000000</td>\n",
       "      <td>0.000000</td>\n",
       "      <td>7.910400</td>\n",
       "    </tr>\n",
       "    <tr>\n",
       "      <th>50%</th>\n",
       "      <td>446.000000</td>\n",
       "      <td>0.000000</td>\n",
       "      <td>3.000000</td>\n",
       "      <td>28.000000</td>\n",
       "      <td>0.000000</td>\n",
       "      <td>0.000000</td>\n",
       "      <td>14.454200</td>\n",
       "    </tr>\n",
       "    <tr>\n",
       "      <th>75%</th>\n",
       "      <td>668.500000</td>\n",
       "      <td>1.000000</td>\n",
       "      <td>3.000000</td>\n",
       "      <td>38.000000</td>\n",
       "      <td>1.000000</td>\n",
       "      <td>0.000000</td>\n",
       "      <td>31.000000</td>\n",
       "    </tr>\n",
       "    <tr>\n",
       "      <th>max</th>\n",
       "      <td>891.000000</td>\n",
       "      <td>1.000000</td>\n",
       "      <td>3.000000</td>\n",
       "      <td>80.000000</td>\n",
       "      <td>8.000000</td>\n",
       "      <td>6.000000</td>\n",
       "      <td>512.329200</td>\n",
       "    </tr>\n",
       "  </tbody>\n",
       "</table>\n",
       "</div>"
      ],
      "text/plain": [
       "       PassengerId    Survived      Pclass         Age       SibSp  \\\n",
       "count   891.000000  891.000000  891.000000  714.000000  891.000000   \n",
       "mean    446.000000    0.383838    2.308642   29.699118    0.523008   \n",
       "std     257.353842    0.486592    0.836071   14.526497    1.102743   \n",
       "min       1.000000    0.000000    1.000000    0.420000    0.000000   \n",
       "25%     223.500000    0.000000    2.000000   20.125000    0.000000   \n",
       "50%     446.000000    0.000000    3.000000   28.000000    0.000000   \n",
       "75%     668.500000    1.000000    3.000000   38.000000    1.000000   \n",
       "max     891.000000    1.000000    3.000000   80.000000    8.000000   \n",
       "\n",
       "            Parch        Fare  \n",
       "count  891.000000  891.000000  \n",
       "mean     0.381594   32.204208  \n",
       "std      0.806057   49.693429  \n",
       "min      0.000000    0.000000  \n",
       "25%      0.000000    7.910400  \n",
       "50%      0.000000   14.454200  \n",
       "75%      0.000000   31.000000  \n",
       "max      6.000000  512.329200  "
      ]
     },
     "execution_count": 10,
     "metadata": {},
     "output_type": "execute_result"
    }
   ],
   "source": [
    "df.describe()"
   ]
  },
  {
   "cell_type": "markdown",
   "id": "ed6f40ed",
   "metadata": {
    "papermill": {
     "duration": 0.01881,
     "end_time": "2022-06-24T15:51:42.989617",
     "exception": false,
     "start_time": "2022-06-24T15:51:42.970807",
     "status": "completed"
    },
    "tags": []
   },
   "source": [
    "# Explaining Dataset\n",
    "survival : Survival 0 = No, 1 = Yes\n",
    "pclass : Ticket class 1 = 1st, 2 = 2nd, 3 = 3rd\n",
    "sex : Sex\n",
    "Age : Age in years\n",
    "sibsp : Number of siblings / spouses aboard the Titanic\n",
    "parch # of parents / children aboard the Titanic\n",
    "ticket : Ticket number fare Passenger fare cabin Cabin number\n",
    "embarked : Port of Embarkation C = Cherbourg, Q = Queenstown, S = Southampton"
   ]
  },
  {
   "cell_type": "markdown",
   "id": "88a19f78",
   "metadata": {
    "papermill": {
     "duration": 0.018615,
     "end_time": "2022-06-24T15:51:43.027035",
     "exception": false,
     "start_time": "2022-06-24T15:51:43.008420",
     "status": "completed"
    },
    "tags": []
   },
   "source": [
    "# **Data Analysis**\n",
    "**Import Seaborn for visually analysing the data\n",
    "\n",
    "Find out how many survived vs Died using countplot method of seaboarn**"
   ]
  },
  {
   "cell_type": "code",
   "execution_count": 11,
   "id": "717133b4",
   "metadata": {
    "execution": {
     "iopub.execute_input": "2022-06-24T15:51:43.067158Z",
     "iopub.status.busy": "2022-06-24T15:51:43.066782Z",
     "iopub.status.idle": "2022-06-24T15:51:43.071328Z",
     "shell.execute_reply": "2022-06-24T15:51:43.070413Z"
    },
    "papermill": {
     "duration": 0.026555,
     "end_time": "2022-06-24T15:51:43.073206",
     "exception": false,
     "start_time": "2022-06-24T15:51:43.046651",
     "status": "completed"
    },
    "tags": []
   },
   "outputs": [],
   "source": [
    "#countplot of subrvived vs not  survived"
   ]
  },
  {
   "cell_type": "code",
   "execution_count": 12,
   "id": "b97b50a4",
   "metadata": {
    "execution": {
     "iopub.execute_input": "2022-06-24T15:51:43.113430Z",
     "iopub.status.busy": "2022-06-24T15:51:43.113043Z",
     "iopub.status.idle": "2022-06-24T15:51:43.287363Z",
     "shell.execute_reply": "2022-06-24T15:51:43.286336Z"
    },
    "papermill": {
     "duration": 0.196982,
     "end_time": "2022-06-24T15:51:43.289389",
     "exception": false,
     "start_time": "2022-06-24T15:51:43.092407",
     "status": "completed"
    },
    "tags": []
   },
   "outputs": [
    {
     "data": {
      "text/plain": [
       "<AxesSubplot:xlabel='Survived', ylabel='count'>"
      ]
     },
     "execution_count": 12,
     "metadata": {},
     "output_type": "execute_result"
    },
    {
     "data": {
      "image/png": "[encoded data removed]",
      "text/plain": [
       "<Figure size 432x288 with 1 Axes>"
      ]
     },
     "metadata": {
      "needs_background": "light"
     },
     "output_type": "display_data"
    }
   ],
   "source": [
    "sns.countplot(x='Survived',data=df)"
   ]
  },
  {
   "cell_type": "markdown",
   "id": "b8fc621e",
   "metadata": {
    "papermill": {
     "duration": 0.018872,
     "end_time": "2022-06-24T15:51:43.327581",
     "exception": false,
     "start_time": "2022-06-24T15:51:43.308709",
     "status": "completed"
    },
    "tags": []
   },
   "source": [
    "**Male vs Female Survival**"
   ]
  },
  {
   "cell_type": "code",
   "execution_count": 13,
   "id": "eefaeed9",
   "metadata": {
    "execution": {
     "iopub.execute_input": "2022-06-24T15:51:43.368114Z",
     "iopub.status.busy": "2022-06-24T15:51:43.367765Z",
     "iopub.status.idle": "2022-06-24T15:51:43.372587Z",
     "shell.execute_reply": "2022-06-24T15:51:43.371421Z"
    },
    "papermill": {
     "duration": 0.027584,
     "end_time": "2022-06-24T15:51:43.374574",
     "exception": false,
     "start_time": "2022-06-24T15:51:43.346990",
     "status": "completed"
    },
    "tags": []
   },
   "outputs": [],
   "source": [
    "#Male vs Female Survived?"
   ]
  },
  {
   "cell_type": "code",
   "execution_count": 14,
   "id": "263b0e23",
   "metadata": {
    "execution": {
     "iopub.execute_input": "2022-06-24T15:51:43.414664Z",
     "iopub.status.busy": "2022-06-24T15:51:43.414281Z",
     "iopub.status.idle": "2022-06-24T15:51:43.564046Z",
     "shell.execute_reply": "2022-06-24T15:51:43.563031Z"
    },
    "papermill": {
     "duration": 0.172274,
     "end_time": "2022-06-24T15:51:43.566234",
     "exception": false,
     "start_time": "2022-06-24T15:51:43.393960",
     "status": "completed"
    },
    "tags": []
   },
   "outputs": [
    {
     "data": {
      "text/plain": [
       "<AxesSubplot:xlabel='Survived', ylabel='count'>"
      ]
     },
     "execution_count": 14,
     "metadata": {},
     "output_type": "execute_result"
    },
    {
     "data": {
      "image/png": "[encoded data removed]",
      "text/plain": [
       "<Figure size 432x288 with 1 Axes>"
      ]
     },
     "metadata": {
      "needs_background": "light"
     },
     "output_type": "display_data"
    }
   ],
   "source": [
    "sns.countplot(x='Survived',data=df,hue='Sex')"
   ]
  },
  {
   "cell_type": "markdown",
   "id": "1c412eb7",
   "metadata": {
    "papermill": {
     "duration": 0.019854,
     "end_time": "2022-06-24T15:51:43.607584",
     "exception": false,
     "start_time": "2022-06-24T15:51:43.587730",
     "status": "completed"
    },
    "tags": []
   },
   "source": [
    "**See age group of passengeres travelled**\n",
    "\n",
    "Note: We will use displot method to see the histogram. However some records does not have age hence the method will throw an error. In order to avoid that we will use dropna method to eliminate null values from graph"
   ]
  },
  {
   "cell_type": "code",
   "execution_count": 15,
   "id": "db9891ab",
   "metadata": {
    "execution": {
     "iopub.execute_input": "2022-06-24T15:51:43.650367Z",
     "iopub.status.busy": "2022-06-24T15:51:43.649918Z",
     "iopub.status.idle": "2022-06-24T15:51:43.654551Z",
     "shell.execute_reply": "2022-06-24T15:51:43.653629Z"
    },
    "papermill": {
     "duration": 0.029088,
     "end_time": "2022-06-24T15:51:43.657103",
     "exception": false,
     "start_time": "2022-06-24T15:51:43.628015",
     "status": "completed"
    },
    "tags": []
   },
   "outputs": [],
   "source": [
    "#Check for null"
   ]
  },
  {
   "cell_type": "code",
   "execution_count": 16,
   "id": "52736b67",
   "metadata": {
    "execution": {
     "iopub.execute_input": "2022-06-24T15:51:43.700133Z",
     "iopub.status.busy": "2022-06-24T15:51:43.699305Z",
     "iopub.status.idle": "2022-06-24T15:51:43.722644Z",
     "shell.execute_reply": "2022-06-24T15:51:43.721899Z"
    },
    "papermill": {
     "duration": 0.04679,
     "end_time": "2022-06-24T15:51:43.724706",
     "exception": false,
     "start_time": "2022-06-24T15:51:43.677916",
     "status": "completed"
    },
    "tags": []
   },
   "outputs": [
    {
     "data": {
      "text/html": [
       "<div>\n",
       "<style scoped>\n",
       "    .dataframe tbody tr th:only-of-type {\n",
       "        vertical-align: middle;\n",
       "    }\n",
       "\n",
       "    .dataframe tbody tr th {\n",
       "        vertical-align: top;\n",
       "    }\n",
       "\n",
       "    .dataframe thead th {\n",
       "        text-align: right;\n",
       "    }\n",
       "</style>\n",
       "<table border=\"1\" class=\"dataframe\">\n",
       "  <thead>\n",
       "    <tr style=\"text-align: right;\">\n",
       "      <th></th>\n",
       "      <th>PassengerId</th>\n",
       "      <th>Survived</th>\n",
       "      <th>Pclass</th>\n",
       "      <th>Name</th>\n",
       "      <th>Sex</th>\n",
       "      <th>Age</th>\n",
       "      <th>SibSp</th>\n",
       "      <th>Parch</th>\n",
       "      <th>Ticket</th>\n",
       "      <th>Fare</th>\n",
       "      <th>Cabin</th>\n",
       "      <th>Embarked</th>\n",
       "    </tr>\n",
       "  </thead>\n",
       "  <tbody>\n",
       "    <tr>\n",
       "      <th>0</th>\n",
       "      <td>False</td>\n",
       "      <td>False</td>\n",
       "      <td>False</td>\n",
       "      <td>False</td>\n",
       "      <td>False</td>\n",
       "      <td>False</td>\n",
       "      <td>False</td>\n",
       "      <td>False</td>\n",
       "      <td>False</td>\n",
       "      <td>False</td>\n",
       "      <td>True</td>\n",
       "      <td>False</td>\n",
       "    </tr>\n",
       "    <tr>\n",
       "      <th>1</th>\n",
       "      <td>False</td>\n",
       "      <td>False</td>\n",
       "      <td>False</td>\n",
       "      <td>False</td>\n",
       "      <td>False</td>\n",
       "      <td>False</td>\n",
       "      <td>False</td>\n",
       "      <td>False</td>\n",
       "      <td>False</td>\n",
       "      <td>False</td>\n",
       "      <td>False</td>\n",
       "      <td>False</td>\n",
       "    </tr>\n",
       "    <tr>\n",
       "      <th>2</th>\n",
       "      <td>False</td>\n",
       "      <td>False</td>\n",
       "      <td>False</td>\n",
       "      <td>False</td>\n",
       "      <td>False</td>\n",
       "      <td>False</td>\n",
       "      <td>False</td>\n",
       "      <td>False</td>\n",
       "      <td>False</td>\n",
       "      <td>False</td>\n",
       "      <td>True</td>\n",
       "      <td>False</td>\n",
       "    </tr>\n",
       "    <tr>\n",
       "      <th>3</th>\n",
       "      <td>False</td>\n",
       "      <td>False</td>\n",
       "      <td>False</td>\n",
       "      <td>False</td>\n",
       "      <td>False</td>\n",
       "      <td>False</td>\n",
       "      <td>False</td>\n",
       "      <td>False</td>\n",
       "      <td>False</td>\n",
       "      <td>False</td>\n",
       "      <td>False</td>\n",
       "      <td>False</td>\n",
       "    </tr>\n",
       "    <tr>\n",
       "      <th>4</th>\n",
       "      <td>False</td>\n",
       "      <td>False</td>\n",
       "      <td>False</td>\n",
       "      <td>False</td>\n",
       "      <td>False</td>\n",
       "      <td>False</td>\n",
       "      <td>False</td>\n",
       "      <td>False</td>\n",
       "      <td>False</td>\n",
       "      <td>False</td>\n",
       "      <td>True</td>\n",
       "      <td>False</td>\n",
       "    </tr>\n",
       "    <tr>\n",
       "      <th>...</th>\n",
       "      <td>...</td>\n",
       "      <td>...</td>\n",
       "      <td>...</td>\n",
       "      <td>...</td>\n",
       "      <td>...</td>\n",
       "      <td>...</td>\n",
       "      <td>...</td>\n",
       "      <td>...</td>\n",
       "      <td>...</td>\n",
       "      <td>...</td>\n",
       "      <td>...</td>\n",
       "      <td>...</td>\n",
       "    </tr>\n",
       "    <tr>\n",
       "      <th>886</th>\n",
       "      <td>False</td>\n",
       "      <td>False</td>\n",
       "      <td>False</td>\n",
       "      <td>False</td>\n",
       "      <td>False</td>\n",
       "      <td>False</td>\n",
       "      <td>False</td>\n",
       "      <td>False</td>\n",
       "      <td>False</td>\n",
       "      <td>False</td>\n",
       "      <td>True</td>\n",
       "      <td>False</td>\n",
       "    </tr>\n",
       "    <tr>\n",
       "      <th>887</th>\n",
       "      <td>False</td>\n",
       "      <td>False</td>\n",
       "      <td>False</td>\n",
       "      <td>False</td>\n",
       "      <td>False</td>\n",
       "      <td>False</td>\n",
       "      <td>False</td>\n",
       "      <td>False</td>\n",
       "      <td>False</td>\n",
       "      <td>False</td>\n",
       "      <td>False</td>\n",
       "      <td>False</td>\n",
       "    </tr>\n",
       "    <tr>\n",
       "      <th>888</th>\n",
       "      <td>False</td>\n",
       "      <td>False</td>\n",
       "      <td>False</td>\n",
       "      <td>False</td>\n",
       "      <td>False</td>\n",
       "      <td>True</td>\n",
       "      <td>False</td>\n",
       "      <td>False</td>\n",
       "      <td>False</td>\n",
       "      <td>False</td>\n",
       "      <td>True</td>\n",
       "      <td>False</td>\n",
       "    </tr>\n",
       "    <tr>\n",
       "      <th>889</th>\n",
       "      <td>False</td>\n",
       "      <td>False</td>\n",
       "      <td>False</td>\n",
       "      <td>False</td>\n",
       "      <td>False</td>\n",
       "      <td>False</td>\n",
       "      <td>False</td>\n",
       "      <td>False</td>\n",
       "      <td>False</td>\n",
       "      <td>False</td>\n",
       "      <td>False</td>\n",
       "      <td>False</td>\n",
       "    </tr>\n",
       "    <tr>\n",
       "      <th>890</th>\n",
       "      <td>False</td>\n",
       "      <td>False</td>\n",
       "      <td>False</td>\n",
       "      <td>False</td>\n",
       "      <td>False</td>\n",
       "      <td>False</td>\n",
       "      <td>False</td>\n",
       "      <td>False</td>\n",
       "      <td>False</td>\n",
       "      <td>False</td>\n",
       "      <td>True</td>\n",
       "      <td>False</td>\n",
       "    </tr>\n",
       "  </tbody>\n",
       "</table>\n",
       "<p>891 rows × 12 columns</p>\n",
       "</div>"
      ],
      "text/plain": [
       "     PassengerId  Survived  Pclass   Name    Sex    Age  SibSp  Parch  Ticket  \\\n",
       "0          False     False   False  False  False  False  False  False   False   \n",
       "1          False     False   False  False  False  False  False  False   False   \n",
       "2          False     False   False  False  False  False  False  False   False   \n",
       "3          False     False   False  False  False  False  False  False   False   \n",
       "4          False     False   False  False  False  False  False  False   False   \n",
       "..           ...       ...     ...    ...    ...    ...    ...    ...     ...   \n",
       "886        False     False   False  False  False  False  False  False   False   \n",
       "887        False     False   False  False  False  False  False  False   False   \n",
       "888        False     False   False  False  False   True  False  False   False   \n",
       "889        False     False   False  False  False  False  False  False   False   \n",
       "890        False     False   False  False  False  False  False  False   False   \n",
       "\n",
       "      Fare  Cabin  Embarked  \n",
       "0    False   True     False  \n",
       "1    False  False     False  \n",
       "2    False   True     False  \n",
       "3    False  False     False  \n",
       "4    False   True     False  \n",
       "..     ...    ...       ...  \n",
       "886  False   True     False  \n",
       "887  False  False     False  \n",
       "888  False   True     False  \n",
       "889  False  False     False  \n",
       "890  False   True     False  \n",
       "\n",
       "[891 rows x 12 columns]"
      ]
     },
     "execution_count": 16,
     "metadata": {},
     "output_type": "execute_result"
    }
   ],
   "source": [
    "df.isna()"
   ]
  },
  {
   "cell_type": "code",
   "execution_count": 17,
   "id": "2f901020",
   "metadata": {
    "execution": {
     "iopub.execute_input": "2022-06-24T15:51:43.767660Z",
     "iopub.status.busy": "2022-06-24T15:51:43.767035Z",
     "iopub.status.idle": "2022-06-24T15:51:43.775768Z",
     "shell.execute_reply": "2022-06-24T15:51:43.774983Z"
    },
    "papermill": {
     "duration": 0.032264,
     "end_time": "2022-06-24T15:51:43.777652",
     "exception": false,
     "start_time": "2022-06-24T15:51:43.745388",
     "status": "completed"
    },
    "tags": []
   },
   "outputs": [
    {
     "data": {
      "text/plain": [
       "PassengerId      0\n",
       "Survived         0\n",
       "Pclass           0\n",
       "Name             0\n",
       "Sex              0\n",
       "Age            177\n",
       "SibSp            0\n",
       "Parch            0\n",
       "Ticket           0\n",
       "Fare             0\n",
       "Cabin          687\n",
       "Embarked         2\n",
       "dtype: int64"
      ]
     },
     "execution_count": 17,
     "metadata": {},
     "output_type": "execute_result"
    }
   ],
   "source": [
    "df.isna().sum()"
   ]
  },
  {
   "cell_type": "code",
   "execution_count": 18,
   "id": "cb1e600d",
   "metadata": {
    "execution": {
     "iopub.execute_input": "2022-06-24T15:51:43.820467Z",
     "iopub.status.busy": "2022-06-24T15:51:43.819914Z",
     "iopub.status.idle": "2022-06-24T15:51:43.823288Z",
     "shell.execute_reply": "2022-06-24T15:51:43.822637Z"
    },
    "papermill": {
     "duration": 0.027659,
     "end_time": "2022-06-24T15:51:43.825590",
     "exception": false,
     "start_time": "2022-06-24T15:51:43.797931",
     "status": "completed"
    },
    "tags": []
   },
   "outputs": [],
   "source": [
    "#Visualize null values"
   ]
  },
  {
   "cell_type": "code",
   "execution_count": 19,
   "id": "2e9e97b6",
   "metadata": {
    "execution": {
     "iopub.execute_input": "2022-06-24T15:51:43.867970Z",
     "iopub.status.busy": "2022-06-24T15:51:43.867634Z",
     "iopub.status.idle": "2022-06-24T15:51:43.872116Z",
     "shell.execute_reply": "2022-06-24T15:51:43.870710Z"
    },
    "papermill": {
     "duration": 0.028568,
     "end_time": "2022-06-24T15:51:43.874679",
     "exception": false,
     "start_time": "2022-06-24T15:51:43.846111",
     "status": "completed"
    },
    "tags": []
   },
   "outputs": [],
   "source": [
    "#find the % of null values in age column"
   ]
  },
  {
   "cell_type": "code",
   "execution_count": 20,
   "id": "19503aa5",
   "metadata": {
    "execution": {
     "iopub.execute_input": "2022-06-24T15:51:43.918463Z",
     "iopub.status.busy": "2022-06-24T15:51:43.918100Z",
     "iopub.status.idle": "2022-06-24T15:51:44.264841Z",
     "shell.execute_reply": "2022-06-24T15:51:44.263862Z"
    },
    "papermill": {
     "duration": 0.371338,
     "end_time": "2022-06-24T15:51:44.267286",
     "exception": false,
     "start_time": "2022-06-24T15:51:43.895948",
     "status": "completed"
    },
    "tags": []
   },
   "outputs": [
    {
     "data": {
      "text/plain": [
       "<AxesSubplot:>"
      ]
     },
     "execution_count": 20,
     "metadata": {},
     "output_type": "execute_result"
    },
    {
     "data": {
      "image/png": "[encoded data removed]",
      "text/plain": [
       "<Figure size 432x288 with 2 Axes>"
      ]
     },
     "metadata": {
      "needs_background": "light"
     },
     "output_type": "display_data"
    }
   ],
   "source": [
    "sns.heatmap(df.isna())"
   ]
  },
  {
   "cell_type": "code",
   "execution_count": 21,
   "id": "1fb83fda",
   "metadata": {
    "execution": {
     "iopub.execute_input": "2022-06-24T15:51:44.312781Z",
     "iopub.status.busy": "2022-06-24T15:51:44.312240Z",
     "iopub.status.idle": "2022-06-24T15:51:44.319849Z",
     "shell.execute_reply": "2022-06-24T15:51:44.318765Z"
    },
    "papermill": {
     "duration": 0.033018,
     "end_time": "2022-06-24T15:51:44.322003",
     "exception": false,
     "start_time": "2022-06-24T15:51:44.288985",
     "status": "completed"
    },
    "tags": []
   },
   "outputs": [
    {
     "data": {
      "text/plain": [
       "19.865319865319865"
      ]
     },
     "execution_count": 21,
     "metadata": {},
     "output_type": "execute_result"
    }
   ],
   "source": [
    "(df['Age'].isna().sum()/len(df['Age']))*100"
   ]
  },
  {
   "cell_type": "code",
   "execution_count": 22,
   "id": "8fd7e9fe",
   "metadata": {
    "execution": {
     "iopub.execute_input": "2022-06-24T15:51:44.367309Z",
     "iopub.status.busy": "2022-06-24T15:51:44.366739Z",
     "iopub.status.idle": "2022-06-24T15:51:44.370830Z",
     "shell.execute_reply": "2022-06-24T15:51:44.369592Z"
    },
    "papermill": {
     "duration": 0.029784,
     "end_time": "2022-06-24T15:51:44.373394",
     "exception": false,
     "start_time": "2022-06-24T15:51:44.343610",
     "status": "completed"
    },
    "tags": []
   },
   "outputs": [],
   "source": [
    "#find the % of null values in cabin column"
   ]
  },
  {
   "cell_type": "code",
   "execution_count": 23,
   "id": "e67af2b6",
   "metadata": {
    "execution": {
     "iopub.execute_input": "2022-06-24T15:51:44.418616Z",
     "iopub.status.busy": "2022-06-24T15:51:44.418123Z",
     "iopub.status.idle": "2022-06-24T15:51:44.425848Z",
     "shell.execute_reply": "2022-06-24T15:51:44.425108Z"
    },
    "papermill": {
     "duration": 0.032466,
     "end_time": "2022-06-24T15:51:44.427803",
     "exception": false,
     "start_time": "2022-06-24T15:51:44.395337",
     "status": "completed"
    },
    "tags": []
   },
   "outputs": [
    {
     "data": {
      "text/plain": [
       "77.10437710437711"
      ]
     },
     "execution_count": 23,
     "metadata": {},
     "output_type": "execute_result"
    }
   ],
   "source": [
    "(df['Cabin'].isna().sum()/len(df['Cabin']))*100"
   ]
  },
  {
   "cell_type": "code",
   "execution_count": 24,
   "id": "ce7b3c06",
   "metadata": {
    "execution": {
     "iopub.execute_input": "2022-06-24T15:51:44.474283Z",
     "iopub.status.busy": "2022-06-24T15:51:44.473691Z",
     "iopub.status.idle": "2022-06-24T15:51:44.477634Z",
     "shell.execute_reply": "2022-06-24T15:51:44.476618Z"
    },
    "papermill": {
     "duration": 0.029688,
     "end_time": "2022-06-24T15:51:44.480046",
     "exception": false,
     "start_time": "2022-06-24T15:51:44.450358",
     "status": "completed"
    },
    "tags": []
   },
   "outputs": [],
   "source": [
    "#find the distribution for the age column"
   ]
  },
  {
   "cell_type": "code",
   "execution_count": 25,
   "id": "cf176daf",
   "metadata": {
    "execution": {
     "iopub.execute_input": "2022-06-24T15:51:44.525856Z",
     "iopub.status.busy": "2022-06-24T15:51:44.525338Z",
     "iopub.status.idle": "2022-06-24T15:51:44.781817Z",
     "shell.execute_reply": "2022-06-24T15:51:44.781090Z"
    },
    "papermill": {
     "duration": 0.281707,
     "end_time": "2022-06-24T15:51:44.783862",
     "exception": false,
     "start_time": "2022-06-24T15:51:44.502155",
     "status": "completed"
    },
    "tags": []
   },
   "outputs": [
    {
     "data": {
      "text/plain": [
       "<seaborn.axisgrid.FacetGrid at 0x7fd532bbc110>"
      ]
     },
     "execution_count": 25,
     "metadata": {},
     "output_type": "execute_result"
    },
    {
     "data": {
      "image/png": "[encoded data removed]",
      "text/plain": [
       "<Figure size 360x360 with 1 Axes>"
      ]
     },
     "metadata": {
      "needs_background": "light"
     },
     "output_type": "display_data"
    }
   ],
   "source": [
    "sns.displot(x='Age',data=df)"
   ]
  },
  {
   "cell_type": "markdown",
   "id": "f3994dc1",
   "metadata": {
    "papermill": {
     "duration": 0.021556,
     "end_time": "2022-06-24T15:51:44.827917",
     "exception": false,
     "start_time": "2022-06-24T15:51:44.806361",
     "status": "completed"
    },
    "tags": []
   },
   "source": [
    "# **Data Cleaning**\n",
    "**Fill the missing values**\n",
    "\n",
    "we will fill the missing values for age. In order to fill missing values we use fillna method.\n",
    "For now we will fill the missing age by taking average of all age"
   ]
  },
  {
   "cell_type": "code",
   "execution_count": 26,
   "id": "fcc93a9c",
   "metadata": {
    "execution": {
     "iopub.execute_input": "2022-06-24T15:51:44.873975Z",
     "iopub.status.busy": "2022-06-24T15:51:44.873053Z",
     "iopub.status.idle": "2022-06-24T15:51:44.877066Z",
     "shell.execute_reply": "2022-06-24T15:51:44.876422Z"
    },
    "papermill": {
     "duration": 0.029366,
     "end_time": "2022-06-24T15:51:44.879053",
     "exception": false,
     "start_time": "2022-06-24T15:51:44.849687",
     "status": "completed"
    },
    "tags": []
   },
   "outputs": [],
   "source": [
    "#fill age column"
   ]
  },
  {
   "cell_type": "code",
   "execution_count": 27,
   "id": "cad75b61",
   "metadata": {
    "execution": {
     "iopub.execute_input": "2022-06-24T15:51:44.926411Z",
     "iopub.status.busy": "2022-06-24T15:51:44.926028Z",
     "iopub.status.idle": "2022-06-24T15:51:44.932087Z",
     "shell.execute_reply": "2022-06-24T15:51:44.931302Z"
    },
    "papermill": {
     "duration": 0.032306,
     "end_time": "2022-06-24T15:51:44.934158",
     "exception": false,
     "start_time": "2022-06-24T15:51:44.901852",
     "status": "completed"
    },
    "tags": []
   },
   "outputs": [],
   "source": [
    "df['Age'].fillna(df['Age'].mean(),inplace=True)"
   ]
  },
  {
   "cell_type": "markdown",
   "id": "93f7ab2a",
   "metadata": {
    "papermill": {
     "duration": 0.021494,
     "end_time": "2022-06-24T15:51:44.977661",
     "exception": false,
     "start_time": "2022-06-24T15:51:44.956167",
     "status": "completed"
    },
    "tags": []
   },
   "source": [
    "**We can verify that no more null data exist**\n",
    "\n",
    "we will examine data by isnull mehtod which will return nothing"
   ]
  },
  {
   "cell_type": "code",
   "execution_count": 28,
   "id": "3059f2ff",
   "metadata": {
    "execution": {
     "iopub.execute_input": "2022-06-24T15:51:45.024204Z",
     "iopub.status.busy": "2022-06-24T15:51:45.023113Z",
     "iopub.status.idle": "2022-06-24T15:51:45.027627Z",
     "shell.execute_reply": "2022-06-24T15:51:45.026497Z"
    },
    "papermill": {
     "duration": 0.02998,
     "end_time": "2022-06-24T15:51:45.029752",
     "exception": false,
     "start_time": "2022-06-24T15:51:44.999772",
     "status": "completed"
    },
    "tags": []
   },
   "outputs": [],
   "source": [
    "#verify null value"
   ]
  },
  {
   "cell_type": "code",
   "execution_count": 29,
   "id": "bde5bdab",
   "metadata": {
    "execution": {
     "iopub.execute_input": "2022-06-24T15:51:45.075980Z",
     "iopub.status.busy": "2022-06-24T15:51:45.075122Z",
     "iopub.status.idle": "2022-06-24T15:51:45.081588Z",
     "shell.execute_reply": "2022-06-24T15:51:45.080832Z"
    },
    "papermill": {
     "duration": 0.031812,
     "end_time": "2022-06-24T15:51:45.083489",
     "exception": false,
     "start_time": "2022-06-24T15:51:45.051677",
     "status": "completed"
    },
    "tags": []
   },
   "outputs": [
    {
     "data": {
      "text/plain": [
       "0"
      ]
     },
     "execution_count": 29,
     "metadata": {},
     "output_type": "execute_result"
    }
   ],
   "source": [
    "df['Age'].isna().sum()"
   ]
  },
  {
   "cell_type": "markdown",
   "id": "b7ba3628",
   "metadata": {
    "papermill": {
     "duration": 0.022259,
     "end_time": "2022-06-24T15:51:45.128422",
     "exception": false,
     "start_time": "2022-06-24T15:51:45.106163",
     "status": "completed"
    },
    "tags": []
   },
   "source": [
    "**Alternatively we will visualise the null value using heatmap**\n",
    "\n",
    "we will use heatmap method by passing only records which are null."
   ]
  },
  {
   "cell_type": "code",
   "execution_count": 30,
   "id": "864e502e",
   "metadata": {
    "execution": {
     "iopub.execute_input": "2022-06-24T15:51:45.174976Z",
     "iopub.status.busy": "2022-06-24T15:51:45.173780Z",
     "iopub.status.idle": "2022-06-24T15:51:45.522100Z",
     "shell.execute_reply": "2022-06-24T15:51:45.521009Z"
    },
    "papermill": {
     "duration": 0.373983,
     "end_time": "2022-06-24T15:51:45.524188",
     "exception": false,
     "start_time": "2022-06-24T15:51:45.150205",
     "status": "completed"
    },
    "tags": []
   },
   "outputs": [
    {
     "data": {
      "text/plain": [
       "<AxesSubplot:>"
      ]
     },
     "execution_count": 30,
     "metadata": {},
     "output_type": "execute_result"
    },
    {
     "data": {
      "image/png": "[encoded data removed]",
      "text/plain": [
       "<Figure size 432x288 with 2 Axes>"
      ]
     },
     "metadata": {
      "needs_background": "light"
     },
     "output_type": "display_data"
    }
   ],
   "source": [
    "sns.heatmap(df.isna())"
   ]
  },
  {
   "cell_type": "code",
   "execution_count": 31,
   "id": "527b3907",
   "metadata": {
    "execution": {
     "iopub.execute_input": "2022-06-24T15:51:45.571187Z",
     "iopub.status.busy": "2022-06-24T15:51:45.570819Z",
     "iopub.status.idle": "2022-06-24T15:51:45.575783Z",
     "shell.execute_reply": "2022-06-24T15:51:45.574666Z"
    },
    "papermill": {
     "duration": 0.031145,
     "end_time": "2022-06-24T15:51:45.577903",
     "exception": false,
     "start_time": "2022-06-24T15:51:45.546758",
     "status": "completed"
    },
    "tags": []
   },
   "outputs": [],
   "source": [
    "#Drop cabin column"
   ]
  },
  {
   "cell_type": "code",
   "execution_count": 32,
   "id": "264055bf",
   "metadata": {
    "execution": {
     "iopub.execute_input": "2022-06-24T15:51:45.625967Z",
     "iopub.status.busy": "2022-06-24T15:51:45.625580Z",
     "iopub.status.idle": "2022-06-24T15:51:45.632357Z",
     "shell.execute_reply": "2022-06-24T15:51:45.631308Z"
    },
    "papermill": {
     "duration": 0.033425,
     "end_time": "2022-06-24T15:51:45.634643",
     "exception": false,
     "start_time": "2022-06-24T15:51:45.601218",
     "status": "completed"
    },
    "tags": []
   },
   "outputs": [],
   "source": [
    "df.drop('Cabin',axis=1,inplace=True)"
   ]
  },
  {
   "cell_type": "code",
   "execution_count": 33,
   "id": "8c42c44b",
   "metadata": {
    "execution": {
     "iopub.execute_input": "2022-06-24T15:51:45.682421Z",
     "iopub.status.busy": "2022-06-24T15:51:45.682032Z",
     "iopub.status.idle": "2022-06-24T15:51:45.687014Z",
     "shell.execute_reply": "2022-06-24T15:51:45.685552Z"
    },
    "papermill": {
     "duration": 0.032026,
     "end_time": "2022-06-24T15:51:45.689738",
     "exception": false,
     "start_time": "2022-06-24T15:51:45.657712",
     "status": "completed"
    },
    "tags": []
   },
   "outputs": [],
   "source": [
    "#see the contents of the data"
   ]
  },
  {
   "cell_type": "code",
   "execution_count": 34,
   "id": "b4c54cfe",
   "metadata": {
    "execution": {
     "iopub.execute_input": "2022-06-24T15:51:45.737865Z",
     "iopub.status.busy": "2022-06-24T15:51:45.737471Z",
     "iopub.status.idle": "2022-06-24T15:51:45.753719Z",
     "shell.execute_reply": "2022-06-24T15:51:45.752750Z"
    },
    "papermill": {
     "duration": 0.043164,
     "end_time": "2022-06-24T15:51:45.756109",
     "exception": false,
     "start_time": "2022-06-24T15:51:45.712945",
     "status": "completed"
    },
    "tags": []
   },
   "outputs": [
    {
     "data": {
      "text/html": [
       "<div>\n",
       "<style scoped>\n",
       "    .dataframe tbody tr th:only-of-type {\n",
       "        vertical-align: middle;\n",
       "    }\n",
       "\n",
       "    .dataframe tbody tr th {\n",
       "        vertical-align: top;\n",
       "    }\n",
       "\n",
       "    .dataframe thead th {\n",
       "        text-align: right;\n",
       "    }\n",
       "</style>\n",
       "<table border=\"1\" class=\"dataframe\">\n",
       "  <thead>\n",
       "    <tr style=\"text-align: right;\">\n",
       "      <th></th>\n",
       "      <th>PassengerId</th>\n",
       "      <th>Survived</th>\n",
       "      <th>Pclass</th>\n",
       "      <th>Name</th>\n",
       "      <th>Sex</th>\n",
       "      <th>Age</th>\n",
       "      <th>SibSp</th>\n",
       "      <th>Parch</th>\n",
       "      <th>Ticket</th>\n",
       "      <th>Fare</th>\n",
       "      <th>Embarked</th>\n",
       "    </tr>\n",
       "  </thead>\n",
       "  <tbody>\n",
       "    <tr>\n",
       "      <th>0</th>\n",
       "      <td>1</td>\n",
       "      <td>0</td>\n",
       "      <td>3</td>\n",
       "      <td>Braund, Mr. Owen Harris</td>\n",
       "      <td>male</td>\n",
       "      <td>22.0</td>\n",
       "      <td>1</td>\n",
       "      <td>0</td>\n",
       "      <td>A/5 21171</td>\n",
       "      <td>7.2500</td>\n",
       "      <td>S</td>\n",
       "    </tr>\n",
       "    <tr>\n",
       "      <th>1</th>\n",
       "      <td>2</td>\n",
       "      <td>1</td>\n",
       "      <td>1</td>\n",
       "      <td>Cumings, Mrs. John Bradley (Florence Briggs Th...</td>\n",
       "      <td>female</td>\n",
       "      <td>38.0</td>\n",
       "      <td>1</td>\n",
       "      <td>0</td>\n",
       "      <td>PC 17599</td>\n",
       "      <td>71.2833</td>\n",
       "      <td>C</td>\n",
       "    </tr>\n",
       "    <tr>\n",
       "      <th>2</th>\n",
       "      <td>3</td>\n",
       "      <td>1</td>\n",
       "      <td>3</td>\n",
       "      <td>Heikkinen, Miss. Laina</td>\n",
       "      <td>female</td>\n",
       "      <td>26.0</td>\n",
       "      <td>0</td>\n",
       "      <td>0</td>\n",
       "      <td>STON/O2. 3101282</td>\n",
       "      <td>7.9250</td>\n",
       "      <td>S</td>\n",
       "    </tr>\n",
       "    <tr>\n",
       "      <th>3</th>\n",
       "      <td>4</td>\n",
       "      <td>1</td>\n",
       "      <td>1</td>\n",
       "      <td>Futrelle, Mrs. Jacques Heath (Lily May Peel)</td>\n",
       "      <td>female</td>\n",
       "      <td>35.0</td>\n",
       "      <td>1</td>\n",
       "      <td>0</td>\n",
       "      <td>113803</td>\n",
       "      <td>53.1000</td>\n",
       "      <td>S</td>\n",
       "    </tr>\n",
       "    <tr>\n",
       "      <th>4</th>\n",
       "      <td>5</td>\n",
       "      <td>0</td>\n",
       "      <td>3</td>\n",
       "      <td>Allen, Mr. William Henry</td>\n",
       "      <td>male</td>\n",
       "      <td>35.0</td>\n",
       "      <td>0</td>\n",
       "      <td>0</td>\n",
       "      <td>373450</td>\n",
       "      <td>8.0500</td>\n",
       "      <td>S</td>\n",
       "    </tr>\n",
       "  </tbody>\n",
       "</table>\n",
       "</div>"
      ],
      "text/plain": [
       "   PassengerId  Survived  Pclass  \\\n",
       "0            1         0       3   \n",
       "1            2         1       1   \n",
       "2            3         1       3   \n",
       "3            4         1       1   \n",
       "4            5         0       3   \n",
       "\n",
       "                                                Name     Sex   Age  SibSp  \\\n",
       "0                            Braund, Mr. Owen Harris    male  22.0      1   \n",
       "1  Cumings, Mrs. John Bradley (Florence Briggs Th...  female  38.0      1   \n",
       "2                             Heikkinen, Miss. Laina  female  26.0      0   \n",
       "3       Futrelle, Mrs. Jacques Heath (Lily May Peel)  female  35.0      1   \n",
       "4                           Allen, Mr. William Henry    male  35.0      0   \n",
       "\n",
       "   Parch            Ticket     Fare Embarked  \n",
       "0      0         A/5 21171   7.2500        S  \n",
       "1      0          PC 17599  71.2833        C  \n",
       "2      0  STON/O2. 3101282   7.9250        S  \n",
       "3      0            113803  53.1000        S  \n",
       "4      0            373450   8.0500        S  "
      ]
     },
     "execution_count": 34,
     "metadata": {},
     "output_type": "execute_result"
    }
   ],
   "source": [
    "df.head()"
   ]
  },
  {
   "cell_type": "markdown",
   "id": "2733efed",
   "metadata": {
    "papermill": {
     "duration": 0.023443,
     "end_time": "2022-06-24T15:51:45.803429",
     "exception": false,
     "start_time": "2022-06-24T15:51:45.779986",
     "status": "completed"
    },
    "tags": []
   },
   "source": [
    "**Prepareing Data for Model**\n",
    "\n",
    "No we will require to convert all non-numerical columns to numeric. Please note this is required for feeding data into model. Lets see which columns are non numeric info describe method"
   ]
  },
  {
   "cell_type": "code",
   "execution_count": 35,
   "id": "792a27d1",
   "metadata": {
    "execution": {
     "iopub.execute_input": "2022-06-24T15:51:45.853143Z",
     "iopub.status.busy": "2022-06-24T15:51:45.852811Z",
     "iopub.status.idle": "2022-06-24T15:51:45.857417Z",
     "shell.execute_reply": "2022-06-24T15:51:45.855957Z"
    },
    "papermill": {
     "duration": 0.031689,
     "end_time": "2022-06-24T15:51:45.859768",
     "exception": false,
     "start_time": "2022-06-24T15:51:45.828079",
     "status": "completed"
    },
    "tags": []
   },
   "outputs": [],
   "source": [
    "#Check for the non-numeric column"
   ]
  },
  {
   "cell_type": "code",
   "execution_count": 36,
   "id": "cdfd6097",
   "metadata": {
    "execution": {
     "iopub.execute_input": "2022-06-24T15:51:45.909294Z",
     "iopub.status.busy": "2022-06-24T15:51:45.908520Z",
     "iopub.status.idle": "2022-06-24T15:51:45.921414Z",
     "shell.execute_reply": "2022-06-24T15:51:45.919729Z"
    },
    "papermill": {
     "duration": 0.040511,
     "end_time": "2022-06-24T15:51:45.923983",
     "exception": false,
     "start_time": "2022-06-24T15:51:45.883472",
     "status": "completed"
    },
    "tags": []
   },
   "outputs": [
    {
     "name": "stdout",
     "output_type": "stream",
     "text": [
      "<class 'pandas.core.frame.DataFrame'>\n",
      "RangeIndex: 891 entries, 0 to 890\n",
      "Data columns (total 11 columns):\n",
      " #   Column       Non-Null Count  Dtype  \n",
      "---  ------       --------------  -----  \n",
      " 0   PassengerId  891 non-null    int64  \n",
      " 1   Survived     891 non-null    int64  \n",
      " 2   Pclass       891 non-null    int64  \n",
      " 3   Name         891 non-null    object \n",
      " 4   Sex          891 non-null    object \n",
      " 5   Age          891 non-null    float64\n",
      " 6   SibSp        891 non-null    int64  \n",
      " 7   Parch        891 non-null    int64  \n",
      " 8   Ticket       891 non-null    object \n",
      " 9   Fare         891 non-null    float64\n",
      " 10  Embarked     889 non-null    object \n",
      "dtypes: float64(2), int64(5), object(4)\n",
      "memory usage: 76.7+ KB\n"
     ]
    }
   ],
   "source": [
    "df.info()"
   ]
  },
  {
   "cell_type": "markdown",
   "id": "5f863282",
   "metadata": {
    "papermill": {
     "duration": 0.022943,
     "end_time": "2022-06-24T15:51:45.970703",
     "exception": false,
     "start_time": "2022-06-24T15:51:45.947760",
     "status": "completed"
    },
    "tags": []
   },
   "source": [
    "**We can see, Name, Sex, Ticket and Embarked are non-numerical.It seems Name,Embarked and Ticket number are not useful for Machine Learning Prediction hence we will eventually drop it. For Now we would convert Sex Column to dummies numerical values**"
   ]
  },
  {
   "cell_type": "code",
   "execution_count": 37,
   "id": "107d3881",
   "metadata": {
    "execution": {
     "iopub.execute_input": "2022-06-24T15:51:46.019476Z",
     "iopub.status.busy": "2022-06-24T15:51:46.018800Z",
     "iopub.status.idle": "2022-06-24T15:51:46.022995Z",
     "shell.execute_reply": "2022-06-24T15:51:46.022227Z"
    },
    "papermill": {
     "duration": 0.031046,
     "end_time": "2022-06-24T15:51:46.025039",
     "exception": false,
     "start_time": "2022-06-24T15:51:45.993993",
     "status": "completed"
    },
    "tags": []
   },
   "outputs": [],
   "source": [
    "#convert sex column to numerical values"
   ]
  },
  {
   "cell_type": "code",
   "execution_count": 38,
   "id": "353a202e",
   "metadata": {
    "execution": {
     "iopub.execute_input": "2022-06-24T15:51:46.074002Z",
     "iopub.status.busy": "2022-06-24T15:51:46.073150Z",
     "iopub.status.idle": "2022-06-24T15:51:46.082235Z",
     "shell.execute_reply": "2022-06-24T15:51:46.080557Z"
    },
    "papermill": {
     "duration": 0.035766,
     "end_time": "2022-06-24T15:51:46.084436",
     "exception": false,
     "start_time": "2022-06-24T15:51:46.048670",
     "status": "completed"
    },
    "tags": []
   },
   "outputs": [
    {
     "data": {
      "text/plain": [
       "PassengerId      int64\n",
       "Survived         int64\n",
       "Pclass           int64\n",
       "Name            object\n",
       "Sex             object\n",
       "Age            float64\n",
       "SibSp            int64\n",
       "Parch            int64\n",
       "Ticket          object\n",
       "Fare           float64\n",
       "Embarked        object\n",
       "dtype: object"
      ]
     },
     "execution_count": 38,
     "metadata": {},
     "output_type": "execute_result"
    }
   ],
   "source": [
    "df.dtypes"
   ]
  },
  {
   "cell_type": "code",
   "execution_count": 39,
   "id": "ae7bc847",
   "metadata": {
    "execution": {
     "iopub.execute_input": "2022-06-24T15:51:46.133373Z",
     "iopub.status.busy": "2022-06-24T15:51:46.132753Z",
     "iopub.status.idle": "2022-06-24T15:51:46.151261Z",
     "shell.execute_reply": "2022-06-24T15:51:46.150380Z"
    },
    "papermill": {
     "duration": 0.045354,
     "end_time": "2022-06-24T15:51:46.153361",
     "exception": false,
     "start_time": "2022-06-24T15:51:46.108007",
     "status": "completed"
    },
    "tags": []
   },
   "outputs": [
    {
     "data": {
      "text/html": [
       "<div>\n",
       "<style scoped>\n",
       "    .dataframe tbody tr th:only-of-type {\n",
       "        vertical-align: middle;\n",
       "    }\n",
       "\n",
       "    .dataframe tbody tr th {\n",
       "        vertical-align: top;\n",
       "    }\n",
       "\n",
       "    .dataframe thead th {\n",
       "        text-align: right;\n",
       "    }\n",
       "</style>\n",
       "<table border=\"1\" class=\"dataframe\">\n",
       "  <thead>\n",
       "    <tr style=\"text-align: right;\">\n",
       "      <th></th>\n",
       "      <th>PassengerId</th>\n",
       "      <th>Survived</th>\n",
       "      <th>Pclass</th>\n",
       "      <th>Name</th>\n",
       "      <th>Sex</th>\n",
       "      <th>Age</th>\n",
       "      <th>SibSp</th>\n",
       "      <th>Parch</th>\n",
       "      <th>Ticket</th>\n",
       "      <th>Fare</th>\n",
       "      <th>Embarked</th>\n",
       "      <th>Gender</th>\n",
       "    </tr>\n",
       "  </thead>\n",
       "  <tbody>\n",
       "    <tr>\n",
       "      <th>0</th>\n",
       "      <td>1</td>\n",
       "      <td>0</td>\n",
       "      <td>3</td>\n",
       "      <td>Braund, Mr. Owen Harris</td>\n",
       "      <td>male</td>\n",
       "      <td>22.0</td>\n",
       "      <td>1</td>\n",
       "      <td>0</td>\n",
       "      <td>A/5 21171</td>\n",
       "      <td>7.2500</td>\n",
       "      <td>S</td>\n",
       "      <td>1</td>\n",
       "    </tr>\n",
       "    <tr>\n",
       "      <th>1</th>\n",
       "      <td>2</td>\n",
       "      <td>1</td>\n",
       "      <td>1</td>\n",
       "      <td>Cumings, Mrs. John Bradley (Florence Briggs Th...</td>\n",
       "      <td>female</td>\n",
       "      <td>38.0</td>\n",
       "      <td>1</td>\n",
       "      <td>0</td>\n",
       "      <td>PC 17599</td>\n",
       "      <td>71.2833</td>\n",
       "      <td>C</td>\n",
       "      <td>0</td>\n",
       "    </tr>\n",
       "    <tr>\n",
       "      <th>2</th>\n",
       "      <td>3</td>\n",
       "      <td>1</td>\n",
       "      <td>3</td>\n",
       "      <td>Heikkinen, Miss. Laina</td>\n",
       "      <td>female</td>\n",
       "      <td>26.0</td>\n",
       "      <td>0</td>\n",
       "      <td>0</td>\n",
       "      <td>STON/O2. 3101282</td>\n",
       "      <td>7.9250</td>\n",
       "      <td>S</td>\n",
       "      <td>0</td>\n",
       "    </tr>\n",
       "    <tr>\n",
       "      <th>3</th>\n",
       "      <td>4</td>\n",
       "      <td>1</td>\n",
       "      <td>1</td>\n",
       "      <td>Futrelle, Mrs. Jacques Heath (Lily May Peel)</td>\n",
       "      <td>female</td>\n",
       "      <td>35.0</td>\n",
       "      <td>1</td>\n",
       "      <td>0</td>\n",
       "      <td>113803</td>\n",
       "      <td>53.1000</td>\n",
       "      <td>S</td>\n",
       "      <td>0</td>\n",
       "    </tr>\n",
       "    <tr>\n",
       "      <th>4</th>\n",
       "      <td>5</td>\n",
       "      <td>0</td>\n",
       "      <td>3</td>\n",
       "      <td>Allen, Mr. William Henry</td>\n",
       "      <td>male</td>\n",
       "      <td>35.0</td>\n",
       "      <td>0</td>\n",
       "      <td>0</td>\n",
       "      <td>373450</td>\n",
       "      <td>8.0500</td>\n",
       "      <td>S</td>\n",
       "      <td>1</td>\n",
       "    </tr>\n",
       "  </tbody>\n",
       "</table>\n",
       "</div>"
      ],
      "text/plain": [
       "   PassengerId  Survived  Pclass  \\\n",
       "0            1         0       3   \n",
       "1            2         1       1   \n",
       "2            3         1       3   \n",
       "3            4         1       1   \n",
       "4            5         0       3   \n",
       "\n",
       "                                                Name     Sex   Age  SibSp  \\\n",
       "0                            Braund, Mr. Owen Harris    male  22.0      1   \n",
       "1  Cumings, Mrs. John Bradley (Florence Briggs Th...  female  38.0      1   \n",
       "2                             Heikkinen, Miss. Laina  female  26.0      0   \n",
       "3       Futrelle, Mrs. Jacques Heath (Lily May Peel)  female  35.0      1   \n",
       "4                           Allen, Mr. William Henry    male  35.0      0   \n",
       "\n",
       "   Parch            Ticket     Fare Embarked  Gender  \n",
       "0      0         A/5 21171   7.2500        S       1  \n",
       "1      0          PC 17599  71.2833        C       0  \n",
       "2      0  STON/O2. 3101282   7.9250        S       0  \n",
       "3      0            113803  53.1000        S       0  \n",
       "4      0            373450   8.0500        S       1  "
      ]
     },
     "execution_count": 39,
     "metadata": {},
     "output_type": "execute_result"
    }
   ],
   "source": [
    "gender=pd.get_dummies(df['Sex'],drop_first=True)\n",
    "df['Gender']=gender\n",
    "df.head()"
   ]
  },
  {
   "cell_type": "code",
   "execution_count": 40,
   "id": "1806d986",
   "metadata": {
    "execution": {
     "iopub.execute_input": "2022-06-24T15:51:46.211020Z",
     "iopub.status.busy": "2022-06-24T15:51:46.209857Z",
     "iopub.status.idle": "2022-06-24T15:51:46.214559Z",
     "shell.execute_reply": "2022-06-24T15:51:46.213804Z"
    },
    "papermill": {
     "duration": 0.038965,
     "end_time": "2022-06-24T15:51:46.216627",
     "exception": false,
     "start_time": "2022-06-24T15:51:46.177662",
     "status": "completed"
    },
    "tags": []
   },
   "outputs": [],
   "source": [
    "#drop the columns which are not required"
   ]
  },
  {
   "cell_type": "code",
   "execution_count": 41,
   "id": "b628ec73",
   "metadata": {
    "execution": {
     "iopub.execute_input": "2022-06-24T15:51:46.266414Z",
     "iopub.status.busy": "2022-06-24T15:51:46.265382Z",
     "iopub.status.idle": "2022-06-24T15:51:46.280539Z",
     "shell.execute_reply": "2022-06-24T15:51:46.279542Z"
    },
    "papermill": {
     "duration": 0.04212,
     "end_time": "2022-06-24T15:51:46.282614",
     "exception": false,
     "start_time": "2022-06-24T15:51:46.240494",
     "status": "completed"
    },
    "tags": []
   },
   "outputs": [
    {
     "data": {
      "text/html": [
       "<div>\n",
       "<style scoped>\n",
       "    .dataframe tbody tr th:only-of-type {\n",
       "        vertical-align: middle;\n",
       "    }\n",
       "\n",
       "    .dataframe tbody tr th {\n",
       "        vertical-align: top;\n",
       "    }\n",
       "\n",
       "    .dataframe thead th {\n",
       "        text-align: right;\n",
       "    }\n",
       "</style>\n",
       "<table border=\"1\" class=\"dataframe\">\n",
       "  <thead>\n",
       "    <tr style=\"text-align: right;\">\n",
       "      <th></th>\n",
       "      <th>PassengerId</th>\n",
       "      <th>Survived</th>\n",
       "      <th>Pclass</th>\n",
       "      <th>Age</th>\n",
       "      <th>SibSp</th>\n",
       "      <th>Parch</th>\n",
       "      <th>Fare</th>\n",
       "      <th>Gender</th>\n",
       "    </tr>\n",
       "  </thead>\n",
       "  <tbody>\n",
       "    <tr>\n",
       "      <th>0</th>\n",
       "      <td>1</td>\n",
       "      <td>0</td>\n",
       "      <td>3</td>\n",
       "      <td>22.0</td>\n",
       "      <td>1</td>\n",
       "      <td>0</td>\n",
       "      <td>7.2500</td>\n",
       "      <td>1</td>\n",
       "    </tr>\n",
       "    <tr>\n",
       "      <th>1</th>\n",
       "      <td>2</td>\n",
       "      <td>1</td>\n",
       "      <td>1</td>\n",
       "      <td>38.0</td>\n",
       "      <td>1</td>\n",
       "      <td>0</td>\n",
       "      <td>71.2833</td>\n",
       "      <td>0</td>\n",
       "    </tr>\n",
       "    <tr>\n",
       "      <th>2</th>\n",
       "      <td>3</td>\n",
       "      <td>1</td>\n",
       "      <td>3</td>\n",
       "      <td>26.0</td>\n",
       "      <td>0</td>\n",
       "      <td>0</td>\n",
       "      <td>7.9250</td>\n",
       "      <td>0</td>\n",
       "    </tr>\n",
       "    <tr>\n",
       "      <th>3</th>\n",
       "      <td>4</td>\n",
       "      <td>1</td>\n",
       "      <td>1</td>\n",
       "      <td>35.0</td>\n",
       "      <td>1</td>\n",
       "      <td>0</td>\n",
       "      <td>53.1000</td>\n",
       "      <td>0</td>\n",
       "    </tr>\n",
       "    <tr>\n",
       "      <th>4</th>\n",
       "      <td>5</td>\n",
       "      <td>0</td>\n",
       "      <td>3</td>\n",
       "      <td>35.0</td>\n",
       "      <td>0</td>\n",
       "      <td>0</td>\n",
       "      <td>8.0500</td>\n",
       "      <td>1</td>\n",
       "    </tr>\n",
       "  </tbody>\n",
       "</table>\n",
       "</div>"
      ],
      "text/plain": [
       "   PassengerId  Survived  Pclass   Age  SibSp  Parch     Fare  Gender\n",
       "0            1         0       3  22.0      1      0   7.2500       1\n",
       "1            2         1       1  38.0      1      0  71.2833       0\n",
       "2            3         1       3  26.0      0      0   7.9250       0\n",
       "3            4         1       1  35.0      1      0  53.1000       0\n",
       "4            5         0       3  35.0      0      0   8.0500       1"
      ]
     },
     "execution_count": 41,
     "metadata": {},
     "output_type": "execute_result"
    }
   ],
   "source": [
    "df.drop(['Name','Sex','Ticket','Embarked'],axis=1,inplace=True)\n",
    "df.head()"
   ]
  },
  {
   "cell_type": "code",
   "execution_count": 42,
   "id": "85cace11",
   "metadata": {
    "execution": {
     "iopub.execute_input": "2022-06-24T15:51:46.332937Z",
     "iopub.status.busy": "2022-06-24T15:51:46.332120Z",
     "iopub.status.idle": "2022-06-24T15:51:46.336180Z",
     "shell.execute_reply": "2022-06-24T15:51:46.335551Z"
    },
    "papermill": {
     "duration": 0.031542,
     "end_time": "2022-06-24T15:51:46.338186",
     "exception": false,
     "start_time": "2022-06-24T15:51:46.306644",
     "status": "completed"
    },
    "tags": []
   },
   "outputs": [],
   "source": [
    "#Seperate Dependent and Independent variables"
   ]
  },
  {
   "cell_type": "code",
   "execution_count": 43,
   "id": "0771ac7a",
   "metadata": {
    "execution": {
     "iopub.execute_input": "2022-06-24T15:51:46.389473Z",
     "iopub.status.busy": "2022-06-24T15:51:46.388911Z",
     "iopub.status.idle": "2022-06-24T15:51:46.394628Z",
     "shell.execute_reply": "2022-06-24T15:51:46.393535Z"
    },
    "papermill": {
     "duration": 0.033554,
     "end_time": "2022-06-24T15:51:46.396795",
     "exception": false,
     "start_time": "2022-06-24T15:51:46.363241",
     "status": "completed"
    },
    "tags": []
   },
   "outputs": [],
   "source": [
    "x=df[['PassengerId','Pclass','Age','SibSp','Parch','Fare','Gender']]\n",
    "y=df['Survived']"
   ]
  },
  {
   "cell_type": "code",
   "execution_count": 44,
   "id": "1c8b3e71",
   "metadata": {
    "execution": {
     "iopub.execute_input": "2022-06-24T15:51:46.447548Z",
     "iopub.status.busy": "2022-06-24T15:51:46.446960Z",
     "iopub.status.idle": "2022-06-24T15:51:46.453650Z",
     "shell.execute_reply": "2022-06-24T15:51:46.452960Z"
    },
    "papermill": {
     "duration": 0.034083,
     "end_time": "2022-06-24T15:51:46.455520",
     "exception": false,
     "start_time": "2022-06-24T15:51:46.421437",
     "status": "completed"
    },
    "tags": []
   },
   "outputs": [
    {
     "data": {
      "text/plain": [
       "0      0\n",
       "1      1\n",
       "2      1\n",
       "3      1\n",
       "4      0\n",
       "      ..\n",
       "886    0\n",
       "887    1\n",
       "888    0\n",
       "889    1\n",
       "890    0\n",
       "Name: Survived, Length: 891, dtype: int64"
      ]
     },
     "execution_count": 44,
     "metadata": {},
     "output_type": "execute_result"
    }
   ],
   "source": [
    "y"
   ]
  },
  {
   "cell_type": "markdown",
   "id": "86c6dc6b",
   "metadata": {
    "papermill": {
     "duration": 0.024023,
     "end_time": "2022-06-24T15:51:46.503825",
     "exception": false,
     "start_time": "2022-06-24T15:51:46.479802",
     "status": "completed"
    },
    "tags": []
   },
   "source": [
    "# **Data Modelling**\n",
    "\n",
    "**Building Model using Logestic Regression**\n",
    "\n",
    "**Build the model**"
   ]
  },
  {
   "cell_type": "code",
   "execution_count": 45,
   "id": "850dd30f",
   "metadata": {
    "execution": {
     "iopub.execute_input": "2022-06-24T15:51:46.554173Z",
     "iopub.status.busy": "2022-06-24T15:51:46.553618Z",
     "iopub.status.idle": "2022-06-24T15:51:46.557432Z",
     "shell.execute_reply": "2022-06-24T15:51:46.556756Z"
    },
    "papermill": {
     "duration": 0.031404,
     "end_time": "2022-06-24T15:51:46.559305",
     "exception": false,
     "start_time": "2022-06-24T15:51:46.527901",
     "status": "completed"
    },
    "tags": []
   },
   "outputs": [],
   "source": [
    "#import train test split method"
   ]
  },
  {
   "cell_type": "code",
   "execution_count": 46,
   "id": "46454dcd",
   "metadata": {
    "execution": {
     "iopub.execute_input": "2022-06-24T15:51:46.610179Z",
     "iopub.status.busy": "2022-06-24T15:51:46.609594Z",
     "iopub.status.idle": "2022-06-24T15:51:46.814571Z",
     "shell.execute_reply": "2022-06-24T15:51:46.813090Z"
    },
    "papermill": {
     "duration": 0.233137,
     "end_time": "2022-06-24T15:51:46.817148",
     "exception": false,
     "start_time": "2022-06-24T15:51:46.584011",
     "status": "completed"
    },
    "tags": []
   },
   "outputs": [],
   "source": [
    "from sklearn.model_selection import train_test_split"
   ]
  },
  {
   "cell_type": "code",
   "execution_count": 47,
   "id": "8aa83824",
   "metadata": {
    "execution": {
     "iopub.execute_input": "2022-06-24T15:51:46.867610Z",
     "iopub.status.busy": "2022-06-24T15:51:46.867222Z",
     "iopub.status.idle": "2022-06-24T15:51:46.870921Z",
     "shell.execute_reply": "2022-06-24T15:51:46.870291Z"
    },
    "papermill": {
     "duration": 0.030945,
     "end_time": "2022-06-24T15:51:46.872678",
     "exception": false,
     "start_time": "2022-06-24T15:51:46.841733",
     "status": "completed"
    },
    "tags": []
   },
   "outputs": [],
   "source": [
    "#train test split"
   ]
  },
  {
   "cell_type": "code",
   "execution_count": 48,
   "id": "e7624947",
   "metadata": {
    "execution": {
     "iopub.execute_input": "2022-06-24T15:51:46.924140Z",
     "iopub.status.busy": "2022-06-24T15:51:46.923588Z",
     "iopub.status.idle": "2022-06-24T15:51:47.043117Z",
     "shell.execute_reply": "2022-06-24T15:51:47.041762Z"
    },
    "papermill": {
     "duration": 0.148095,
     "end_time": "2022-06-24T15:51:47.045314",
     "exception": false,
     "start_time": "2022-06-24T15:51:46.897219",
     "status": "completed"
    },
    "tags": []
   },
   "outputs": [
    {
     "name": "stderr",
     "output_type": "stream",
     "text": [
      "/opt/conda/lib/python3.7/site-packages/sklearn/linear_model/_logistic.py:818: ConvergenceWarning: lbfgs failed to converge (status=1):\n",
      "STOP: TOTAL NO. of ITERATIONS REACHED LIMIT.\n",
      "\n",
      "Increase the number of iterations (max_iter) or scale the data as shown in:\n",
      "    https://scikit-learn.org/stable/modules/preprocessing.html\n",
      "Please also refer to the documentation for alternative solver options:\n",
      "    https://scikit-learn.org/stable/modules/linear_model.html#logistic-regression\n",
      "  extra_warning_msg=_LOGISTIC_SOLVER_CONVERGENCE_MSG,\n"
     ]
    },
    {
     "data": {
      "text/plain": [
       "LogisticRegression()"
      ]
     },
     "execution_count": 48,
     "metadata": {},
     "output_type": "execute_result"
    }
   ],
   "source": [
    "x_train, x_test, y_train, y_test = train_test_split(x, y, test_size=0.33, random_state=42)\n",
    "#import Logistic  Regression\n",
    "from sklearn.linear_model import LogisticRegression\n",
    "#Fit  Logistic Regression \n",
    "lr=LogisticRegression()\n",
    "lr.fit(x_train,y_train)"
   ]
  },
  {
   "cell_type": "code",
   "execution_count": 49,
   "id": "748366b6",
   "metadata": {
    "execution": {
     "iopub.execute_input": "2022-06-24T15:51:47.096267Z",
     "iopub.status.busy": "2022-06-24T15:51:47.095893Z",
     "iopub.status.idle": "2022-06-24T15:51:47.102449Z",
     "shell.execute_reply": "2022-06-24T15:51:47.101700Z"
    },
    "papermill": {
     "duration": 0.03425,
     "end_time": "2022-06-24T15:51:47.104306",
     "exception": false,
     "start_time": "2022-06-24T15:51:47.070056",
     "status": "completed"
    },
    "tags": []
   },
   "outputs": [],
   "source": [
    "predict=lr.predict(x_test)"
   ]
  },
  {
   "cell_type": "markdown",
   "id": "2a2bf4ec",
   "metadata": {
    "papermill": {
     "duration": 0.024373,
     "end_time": "2022-06-24T15:51:47.153542",
     "exception": false,
     "start_time": "2022-06-24T15:51:47.129169",
     "status": "completed"
    },
    "tags": []
   },
   "source": [
    "# **Testing**\n",
    "\n",
    "**See how our model is performing**"
   ]
  },
  {
   "cell_type": "code",
   "execution_count": 50,
   "id": "5ed213fe",
   "metadata": {
    "execution": {
     "iopub.execute_input": "2022-06-24T15:51:47.204810Z",
     "iopub.status.busy": "2022-06-24T15:51:47.204041Z",
     "iopub.status.idle": "2022-06-24T15:51:47.208113Z",
     "shell.execute_reply": "2022-06-24T15:51:47.207436Z"
    },
    "papermill": {
     "duration": 0.03276,
     "end_time": "2022-06-24T15:51:47.210824",
     "exception": false,
     "start_time": "2022-06-24T15:51:47.178064",
     "status": "completed"
    },
    "tags": []
   },
   "outputs": [],
   "source": [
    "from sklearn.metrics import confusion_matrix"
   ]
  },
  {
   "cell_type": "code",
   "execution_count": 51,
   "id": "3a461aa8",
   "metadata": {
    "execution": {
     "iopub.execute_input": "2022-06-24T15:51:47.265163Z",
     "iopub.status.busy": "2022-06-24T15:51:47.264558Z",
     "iopub.status.idle": "2022-06-24T15:51:47.268261Z",
     "shell.execute_reply": "2022-06-24T15:51:47.267637Z"
    },
    "papermill": {
     "duration": 0.031541,
     "end_time": "2022-06-24T15:51:47.270105",
     "exception": false,
     "start_time": "2022-06-24T15:51:47.238564",
     "status": "completed"
    },
    "tags": []
   },
   "outputs": [],
   "source": [
    "#print confusion matrix "
   ]
  },
  {
   "cell_type": "code",
   "execution_count": 52,
   "id": "c625fa0f",
   "metadata": {
    "execution": {
     "iopub.execute_input": "2022-06-24T15:51:47.321519Z",
     "iopub.status.busy": "2022-06-24T15:51:47.321145Z",
     "iopub.status.idle": "2022-06-24T15:51:47.332621Z",
     "shell.execute_reply": "2022-06-24T15:51:47.331701Z"
    },
    "papermill": {
     "duration": 0.039859,
     "end_time": "2022-06-24T15:51:47.334710",
     "exception": false,
     "start_time": "2022-06-24T15:51:47.294851",
     "status": "completed"
    },
    "tags": []
   },
   "outputs": [
    {
     "data": {
      "text/html": [
       "<div>\n",
       "<style scoped>\n",
       "    .dataframe tbody tr th:only-of-type {\n",
       "        vertical-align: middle;\n",
       "    }\n",
       "\n",
       "    .dataframe tbody tr th {\n",
       "        vertical-align: top;\n",
       "    }\n",
       "\n",
       "    .dataframe thead th {\n",
       "        text-align: right;\n",
       "    }\n",
       "</style>\n",
       "<table border=\"1\" class=\"dataframe\">\n",
       "  <thead>\n",
       "    <tr style=\"text-align: right;\">\n",
       "      <th></th>\n",
       "      <th>Predicted No</th>\n",
       "      <th>Predicted Yes</th>\n",
       "    </tr>\n",
       "  </thead>\n",
       "  <tbody>\n",
       "    <tr>\n",
       "      <th>Actual No</th>\n",
       "      <td>151</td>\n",
       "      <td>24</td>\n",
       "    </tr>\n",
       "    <tr>\n",
       "      <th>Actual Yes</th>\n",
       "      <td>37</td>\n",
       "      <td>83</td>\n",
       "    </tr>\n",
       "  </tbody>\n",
       "</table>\n",
       "</div>"
      ],
      "text/plain": [
       "            Predicted No  Predicted Yes\n",
       "Actual No            151             24\n",
       "Actual Yes            37             83"
      ]
     },
     "execution_count": 52,
     "metadata": {},
     "output_type": "execute_result"
    }
   ],
   "source": [
    "pd.DataFrame(confusion_matrix(y_test,predict),columns=['Predicted No','Predicted Yes'],index=['Actual No','Actual Yes'])"
   ]
  },
  {
   "cell_type": "code",
   "execution_count": 53,
   "id": "74e67873",
   "metadata": {
    "execution": {
     "iopub.execute_input": "2022-06-24T15:51:47.386932Z",
     "iopub.status.busy": "2022-06-24T15:51:47.386365Z",
     "iopub.status.idle": "2022-06-24T15:51:47.390298Z",
     "shell.execute_reply": "2022-06-24T15:51:47.389460Z"
    },
    "papermill": {
     "duration": 0.032461,
     "end_time": "2022-06-24T15:51:47.392430",
     "exception": false,
     "start_time": "2022-06-24T15:51:47.359969",
     "status": "completed"
    },
    "tags": []
   },
   "outputs": [],
   "source": [
    "#import classification report"
   ]
  },
  {
   "cell_type": "code",
   "execution_count": 54,
   "id": "20328f49",
   "metadata": {
    "execution": {
     "iopub.execute_input": "2022-06-24T15:51:47.445589Z",
     "iopub.status.busy": "2022-06-24T15:51:47.444815Z",
     "iopub.status.idle": "2022-06-24T15:51:47.454385Z",
     "shell.execute_reply": "2022-06-24T15:51:47.453190Z"
    },
    "papermill": {
     "duration": 0.039227,
     "end_time": "2022-06-24T15:51:47.456815",
     "exception": false,
     "start_time": "2022-06-24T15:51:47.417588",
     "status": "completed"
    },
    "tags": []
   },
   "outputs": [
    {
     "name": "stdout",
     "output_type": "stream",
     "text": [
      "              precision    recall  f1-score   support\n",
      "\n",
      "           0       0.80      0.86      0.83       175\n",
      "           1       0.78      0.69      0.73       120\n",
      "\n",
      "    accuracy                           0.79       295\n",
      "   macro avg       0.79      0.78      0.78       295\n",
      "weighted avg       0.79      0.79      0.79       295\n",
      "\n"
     ]
    }
   ],
   "source": [
    "from sklearn.metrics import classification_report\n",
    "print(classification_report(y_test,predict))"
   ]
  },
  {
   "cell_type": "markdown",
   "id": "ed096713",
   "metadata": {
    "papermill": {
     "duration": 0.024699,
     "end_time": "2022-06-24T15:51:47.507477",
     "exception": false,
     "start_time": "2022-06-24T15:51:47.482778",
     "status": "completed"
    },
    "tags": []
   },
   "source": [
    " **recision is fine considering Model Selected and Available Data. Accuracy can be increased by further using more features (which we dropped earlier) and/or by using other model**\n",
    "\n",
    "Note:\n",
    "Precision : Precision is the ratio of correctly predicted positive observations to the total predicted positive observations\n",
    "Recall : Recall is the ratio of correctly predicted positive observations to the all observations in actual class F1 score - F1 Score is the weighted average of Precision and Recall."
   ]
  },
  {
   "cell_type": "code",
   "execution_count": null,
   "id": "f317dfee",
   "metadata": {
    "papermill": {
     "duration": 0.025034,
     "end_time": "2022-06-24T15:51:47.557318",
     "exception": false,
     "start_time": "2022-06-24T15:51:47.532284",
     "status": "completed"
    },
    "tags": []
   },
   "outputs": [],
   "source": []
  }
 ],
 "metadata": {
  "kernelspec": {
   "display_name": "Python 3",
   "language": "python",
   "name": "python3"
  },
  "language_info": {
   "codemirror_mode": {
    "name": "ipython",
    "version": 3
   },
   "file_extension": ".py",
   "mimetype": "text/x-python",
   "name": "python",
   "nbconvert_exporter": "python",
   "pygments_lexer": "ipython3",
   "version": "3.7.12"
  },
  "papermill": {
   "default_parameters": {},
   "duration": 18.586857,
   "end_time": "2022-06-24T15:51:48.604203",
   "environment_variables": {},
   "exception": null,
   "input_path": "__notebook__.ipynb",
   "output_path": "__notebook__.ipynb",
   "parameters": {},
   "start_time": "2022-06-24T15:51:30.017346",
   "version": "2.3.4"
  }
 },
 "nbformat": 4,
 "nbformat_minor": 5
}
